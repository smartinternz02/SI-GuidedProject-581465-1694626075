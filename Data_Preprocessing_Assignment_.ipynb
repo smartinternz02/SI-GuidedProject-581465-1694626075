{
  "cells": [
    {
      "cell_type": "markdown",
      "id": "2ba4e708",
      "metadata": {
        "id": "2ba4e708"
      },
      "source": [
        "# Assignment 3"
      ]
    },
    {
      "cell_type": "code",
      "execution_count": 4,
      "id": "004eaf3e",
      "metadata": {
        "id": "004eaf3e"
      },
      "outputs": [],
      "source": [
        "# Assignment 3 (15 september)\n",
        "# Perform Data preprocessing on Titanic dataset\n",
        "# 1.Data Collection.\n",
        "#    Please download the dataset from\n",
        "#    https://www.kaggle.com/datasets/yasserh/titanic-dataset\n",
        "# 2.Data Preprocessing\n",
        "#     o   Import the Libraries.\n",
        "#     o   Importing the dataset.\n",
        "#     o   Checking for Null Values.\n",
        "#     o   Data Visualization.\n",
        "#     o   Outlier Detection\n",
        "#     o   Splitting Dependent and Independent variables\n",
        "#     o   Perform Encoding\n",
        "#     o   Feature Scaling.\n",
        "#     o   Splitting Data into Train and Test"
      ]
    },
    {
      "cell_type": "markdown",
      "id": "13fede38",
      "metadata": {
        "id": "13fede38"
      },
      "source": [
        "# Import the Libraries"
      ]
    },
    {
      "cell_type": "code",
      "execution_count": 5,
      "id": "2a0c7b41",
      "metadata": {
        "id": "2a0c7b41"
      },
      "outputs": [],
      "source": [
        "import pandas as pd\n",
        "import numpy as np\n",
        "import matplotlib.pyplot as plt\n",
        "import seaborn as sns\n",
        "from sklearn.model_selection import train_test_split\n",
        "from sklearn.preprocessing import LabelEncoder, StandardScaler"
      ]
    },
    {
      "cell_type": "markdown",
      "id": "4e609999",
      "metadata": {
        "id": "4e609999"
      },
      "source": [
        "# Importing the dataset"
      ]
    },
    {
      "cell_type": "code",
      "execution_count": 6,
      "id": "f3f21732",
      "metadata": {
        "id": "f3f21732"
      },
      "outputs": [],
      "source": [
        "dataset = pd.read_csv(\"/content/Titanic-Dataset.csv\")"
      ]
    },
    {
      "cell_type": "markdown",
      "id": "76113266",
      "metadata": {
        "id": "76113266"
      },
      "source": [
        "# Checking for Null Values"
      ]
    },
    {
      "cell_type": "code",
      "execution_count": 7,
      "id": "7b02eec6",
      "metadata": {
        "id": "7b02eec6"
      },
      "outputs": [],
      "source": [
        "null_values = dataset.isnull().sum()"
      ]
    },
    {
      "cell_type": "markdown",
      "id": "f1b054a8",
      "metadata": {
        "id": "f1b054a8"
      },
      "source": [
        "# Data Visualization"
      ]
    },
    {
      "cell_type": "code",
      "execution_count": 8,
      "id": "441d7f59",
      "metadata": {
        "colab": {
          "base_uri": "https://localhost:8080/",
          "height": 458
        },
        "id": "441d7f59",
        "outputId": "aa6d0f3f-96d4-4842-e00f-b43063036ff8"
      },
      "outputs": [
        {
          "output_type": "display_data",
          "data": {
            "text/plain": [
              "<Figure size 640x480 with 1 Axes>"
            ],
            "image/png": "[encoded data removed]"
          },
          "metadata": {}
        }
      ],
      "source": [
        "sns.set(style=\"whitegrid\")\n",
        "sns.countplot(x=\"Survived\", data=dataset)\n",
        "plt.show()"
      ]
    },
    {
      "cell_type": "markdown",
      "id": "ec48b6bf",
      "metadata": {
        "id": "ec48b6bf"
      },
      "source": [
        "# Outlier Detection"
      ]
    },
    {
      "cell_type": "code",
      "execution_count": 9,
      "id": "5189826a",
      "metadata": {
        "colab": {
          "base_uri": "https://localhost:8080/"
        },
        "id": "5189826a",
        "outputId": "f14f93ad-cf06-4eb8-acc3-66c0e2ea69ea"
      },
      "outputs": [
        {
          "output_type": "stream",
          "name": "stdout",
          "text": [
            "Outliers detected using Z-score:\n",
            "     PassengerId  Survived  Pclass  \\\n",
            "27            28         0       1   \n",
            "88            89         1       1   \n",
            "118          119         0       1   \n",
            "258          259         1       1   \n",
            "299          300         1       1   \n",
            "311          312         1       1   \n",
            "341          342         1       1   \n",
            "377          378         0       1   \n",
            "380          381         1       1   \n",
            "438          439         0       1   \n",
            "527          528         0       1   \n",
            "557          558         0       1   \n",
            "630          631         1       1   \n",
            "679          680         1       1   \n",
            "689          690         1       1   \n",
            "700          701         1       1   \n",
            "716          717         1       1   \n",
            "730          731         1       1   \n",
            "737          738         1       1   \n",
            "742          743         1       1   \n",
            "779          780         1       1   \n",
            "851          852         0       3   \n",
            "\n",
            "                                                  Name     Sex   Age  SibSp  \\\n",
            "27                      Fortune, Mr. Charles Alexander    male  19.0      3   \n",
            "88                          Fortune, Miss. Mabel Helen  female  23.0      3   \n",
            "118                           Baxter, Mr. Quigg Edmond    male  24.0      0   \n",
            "258                                   Ward, Miss. Anna  female  35.0      0   \n",
            "299    Baxter, Mrs. James (Helene DeLaudeniere Chaput)  female  50.0      0   \n",
            "311                         Ryerson, Miss. Emily Borie  female  18.0      2   \n",
            "341                     Fortune, Miss. Alice Elizabeth  female  24.0      3   \n",
            "377                          Widener, Mr. Harry Elkins    male  27.0      0   \n",
            "380                              Bidois, Miss. Rosalie  female  42.0      0   \n",
            "438                                  Fortune, Mr. Mark    male  64.0      1   \n",
            "527                                 Farthing, Mr. John    male   NaN      0   \n",
            "557                                Robbins, Mr. Victor    male   NaN      0   \n",
            "630               Barkworth, Mr. Algernon Henry Wilson    male  80.0      0   \n",
            "679                 Cardeza, Mr. Thomas Drake Martinez    male  36.0      0   \n",
            "689                  Madill, Miss. Georgette Alexandra  female  15.0      0   \n",
            "700  Astor, Mrs. John Jacob (Madeleine Talmadge Force)  female  18.0      1   \n",
            "716                      Endres, Miss. Caroline Louise  female  38.0      0   \n",
            "730                      Allen, Miss. Elisabeth Walton  female  29.0      0   \n",
            "737                             Lesurer, Mr. Gustave J    male  35.0      0   \n",
            "742              Ryerson, Miss. Susan Parker \"Suzette\"  female  21.0      2   \n",
            "779  Robert, Mrs. Edward Scott (Elisabeth Walton Mc...  female  43.0      0   \n",
            "851                                Svensson, Mr. Johan    male  74.0      0   \n",
            "\n",
            "     Parch    Ticket      Fare            Cabin Embarked  \n",
            "27       2     19950  263.0000      C23 C25 C27        S  \n",
            "88       2     19950  263.0000      C23 C25 C27        S  \n",
            "118      1  PC 17558  247.5208          B58 B60        C  \n",
            "258      0  PC 17755  512.3292              NaN        C  \n",
            "299      1  PC 17558  247.5208          B58 B60        C  \n",
            "311      2  PC 17608  262.3750  B57 B59 B63 B66        C  \n",
            "341      2     19950  263.0000      C23 C25 C27        S  \n",
            "377      2    113503  211.5000              C82        C  \n",
            "380      0  PC 17757  227.5250              NaN        C  \n",
            "438      4     19950  263.0000      C23 C25 C27        S  \n",
            "527      0  PC 17483  221.7792              C95        S  \n",
            "557      0  PC 17757  227.5250              NaN        C  \n",
            "630      0     27042   30.0000              A23        S  \n",
            "679      1  PC 17755  512.3292      B51 B53 B55        C  \n",
            "689      1     24160  211.3375               B5        S  \n",
            "700      0  PC 17757  227.5250          C62 C64        C  \n",
            "716      0  PC 17757  227.5250              C45        C  \n",
            "730      0     24160  211.3375               B5        S  \n",
            "737      0  PC 17755  512.3292             B101        C  \n",
            "742      2  PC 17608  262.3750  B57 B59 B63 B66        C  \n",
            "779      1     24160  211.3375               B3        S  \n",
            "851      0    347060    7.7750              NaN        S  \n"
          ]
        }
      ],
      "source": [
        "numerical_columns = ['Age', 'Fare']\n",
        "z_scores = np.abs((dataset[numerical_columns] - dataset[numerical_columns].mean()) / dataset[numerical_columns].std())\n",
        "threshold = 3\n",
        "outlier_mask = z_scores > threshold\n",
        "outliers = dataset[outlier_mask.any(axis=1)]\n",
        "print(\"Outliers detected using Z-score:\")\n",
        "print(outliers)"
      ]
    },
    {
      "cell_type": "markdown",
      "id": "d6d90303",
      "metadata": {
        "id": "d6d90303"
      },
      "source": [
        "# Splitting Dependent and Independent variables"
      ]
    },
    {
      "cell_type": "code",
      "execution_count": 10,
      "id": "1fec310f",
      "metadata": {
        "id": "1fec310f"
      },
      "outputs": [],
      "source": [
        "X = dataset.drop(\"Survived\", axis=1)\n",
        "y = dataset[\"Survived\"]"
      ]
    },
    {
      "cell_type": "markdown",
      "id": "adfa8547",
      "metadata": {
        "id": "adfa8547"
      },
      "source": [
        "# Exclude non-numeric columns from X"
      ]
    },
    {
      "cell_type": "code",
      "execution_count": 11,
      "id": "7c57d09a",
      "metadata": {
        "id": "7c57d09a"
      },
      "outputs": [],
      "source": [
        "X_numeric = X.select_dtypes(include=[np.number])"
      ]
    },
    {
      "cell_type": "markdown",
      "id": "49837fa5",
      "metadata": {
        "id": "49837fa5"
      },
      "source": [
        "# Perform Encoding (Example: Label Encoding for Sex column)"
      ]
    },
    {
      "cell_type": "code",
      "execution_count": 12,
      "id": "347c5297",
      "metadata": {
        "id": "347c5297"
      },
      "outputs": [],
      "source": [
        "label_encoder = LabelEncoder()\n",
        "X[\"Sex\"] = label_encoder.fit_transform(X[\"Sex\"])"
      ]
    },
    {
      "cell_type": "markdown",
      "id": "403ef6f1",
      "metadata": {
        "id": "403ef6f1"
      },
      "source": [
        "# Feature Scaling (Example: Standardization)"
      ]
    },
    {
      "cell_type": "code",
      "execution_count": 13,
      "id": "ea0ba78d",
      "metadata": {
        "id": "ea0ba78d"
      },
      "outputs": [],
      "source": [
        "scaler = StandardScaler()\n",
        "X_scaled = scaler.fit_transform(X_numeric)"
      ]
    },
    {
      "cell_type": "markdown",
      "id": "b7bc5c5f",
      "metadata": {
        "id": "b7bc5c5f"
      },
      "source": [
        "# Splitting Data into Train and Test"
      ]
    },
    {
      "cell_type": "code",
      "execution_count": 14,
      "id": "90b7baf3",
      "metadata": {
        "colab": {
          "base_uri": "https://localhost:8080/",
          "height": 584
        },
        "id": "90b7baf3",
        "outputId": "383c649a-7646-4007-ce05-8c737c18011f"
      },
      "outputs": [
        {
          "output_type": "stream",
          "name": "stdout",
          "text": [
            "Number of samples in the test dataset: 179\n",
            "Basic statistics of the test dataset:\n",
            "Mean: [-0.03455655 -0.10193644         nan -0.1095822   0.01175234 -0.03059938]\n",
            "Standard Deviation: [1.00937639 1.04720501        nan 0.6611409  1.06847731 0.79204588]\n",
            "Minimum: [-1.71066854 -1.56610693         nan -0.4745452  -0.47367361 -0.64842165]\n",
            "Maximum: [1.72622007 0.82737724        nan 3.15480905 5.73284383 4.6344169 ]\n"
          ]
        },
        {
          "output_type": "display_data",
          "data": {
            "text/plain": [
              "<Figure size 640x480 with 1 Axes>"
            ],
            "image/png": "[encoded data removed]"
          },
          "metadata": {}
        }
      ],
      "source": [
        "X_train, X_test, y_train, y_test = train_test_split(X_scaled, y, test_size=0.2, random_state=42)\n",
        "print(\"Number of samples in the test dataset:\", len(X_test))\n",
        "print(\"Basic statistics of the test dataset:\")\n",
        "print(\"Mean:\", np.mean(X_test, axis=0))\n",
        "print(\"Standard Deviation:\", np.std(X_test, axis=0))\n",
        "print(\"Minimum:\", np.min(X_test, axis=0))\n",
        "print(\"Maximum:\", np.max(X_test, axis=0))\n",
        "sns.countplot(x=y_test)\n",
        "plt.title(\"Distribution of Survived (Target) in the Test Dataset\")\n",
        "plt.show()"
      ]
    },
    {
      "cell_type": "markdown",
      "id": "09e5e29b",
      "metadata": {
        "id": "09e5e29b"
      },
      "source": []
    }
  ],
  "metadata": {
    "kernelspec": {
      "display_name": "Python 3 (ipykernel)",
      "language": "python",
      "name": "python3"
    },
    "language_info": {
      "codemirror_mode": {
        "name": "ipython",
        "version": 3
      },
      "file_extension": ".py",
      "mimetype": "text/x-python",
      "name": "python",
      "nbconvert_exporter": "python",
      "pygments_lexer": "ipython3",
      "version": "3.11.4"
    },
    "colab": {
      "provenance": []
    }
  },
  "nbformat": 4,
  "nbformat_minor": 5
}